{
  "nbformat": 4,
  "nbformat_minor": 0,
  "metadata": {
    "colab": {
      "provenance": []
    },
    "kernelspec": {
      "name": "python3",
      "display_name": "Python 3"
    },
    "language_info": {
      "name": "python"
    }
  },
  "cells": [
    {
      "cell_type": "code",
      "execution_count": 3,
      "metadata": {
        "colab": {
          "base_uri": "https://localhost:8080/"
        },
        "id": "h2gejvOY7AgR",
        "outputId": "2736a95c-5504-42f8-c6ea-694b2e870486"
      },
      "outputs": [
        {
          "output_type": "stream",
          "name": "stdout",
          "text": [
            "Ingrese la base: 5\n",
            "Ingrese el exponente: 10\n",
            "{'potencia': 9765625}\n"
          ]
        }
      ],
      "source": [
        "from time import sleep\n",
        "\n",
        "# 25. Potencia de un número sin usar ** con funciones lambda\n",
        "potencia = lambda base, exp: {\"potencia\": 1 if exp == 0 else base * potencia(base, exp - 1)[\"potencia\"]}\n",
        "base = int(input(\"Ingrese la base: \"))\n",
        "exponente = int(input(\"Ingrese el exponente: \"))\n",
        "print(potencia(base, exponente))"
      ]
    },
    {
      "cell_type": "code",
      "source": [
        "# 26. Tablas de multiplicar del 1 al 10 con funciones\n",
        "def tablas_multiplicar():\n",
        "    return {i: {j: i * j for j in range(1, 11)} for i in range(1, 11)}\n",
        "print(tablas_multiplicar())"
      ],
      "metadata": {
        "id": "qj7rHxAu8YOo"
      },
      "execution_count": null,
      "outputs": []
    },
    {
      "cell_type": "code",
      "source": [
        "# 27. Números perfectos hasta n con funciones lambda\n",
        "es_perfecto = lambda num: sum(i for i in range(1, num) if num % i == 0) == num\n",
        "numeros_perfectos = lambda hasta: {\"numeros_perfectos\": [i for i in range(2, hasta + 1) if es_perfecto(i)]}\n",
        "n = int(input(\"Ingrese el valor de n: \"))\n",
        "print(numeros_perfectos(n))\n"
      ],
      "metadata": {
        "id": "gZWTchmn8abI"
      },
      "execution_count": null,
      "outputs": []
    },
    {
      "cell_type": "code",
      "source": [
        "# 28. Patrón de diamante con asteriscos con funciones\n",
        "def diamante(n):\n",
        "    resultado = []\n",
        "    for i in range(1, n + 1, 2):\n",
        "        resultado.append(\" \" * ((n - i) // 2) + \"*\" * i)\n",
        "    for i in range(n - 2, 0, -2):\n",
        "        resultado.append(\" \" * ((n - i) // 2) + \"*\" * i)\n",
        "    return \"\\n\".join(resultado)\n",
        "\n",
        "tamano = int(input(\"Ingrese el tamaño del diamante (impar): \"))\n",
        "print(diamante(tamano))"
      ],
      "metadata": {
        "id": "LLIhYyzp8wxH"
      },
      "execution_count": null,
      "outputs": []
    },
    {
      "cell_type": "code",
      "source": [
        "# 29. Números Armstrong hasta n con funciones lambda\n",
        "es_armstrong = lambda num: num == sum(int(digit) ** len(str(num)) for digit in str(num))\n",
        "numeros_armstrong = lambda hasta: {\"numeros_armstrong\": [i for i in range(1, hasta + 1) if es_armstrong(i)]}\n",
        "n = int(input(\"Ingrese el valor de n: \"))\n",
        "print(numeros_armstrong(n))"
      ],
      "metadata": {
        "id": "u9_HyquP8xSj"
      },
      "execution_count": null,
      "outputs": []
    },
    {
      "cell_type": "code",
      "source": [
        "# 30. Simulación de un reloj digital con funciones\n",
        "def reloj(horas, minutos, segundos):\n",
        "    for h in range(horas):\n",
        "        for m in range(minutos):\n",
        "            for s in range(segundos):\n",
        "                print(f\"{h:02}:{m:02}:{s:02}\")\n",
        "                sleep(1)\n",
        "\n",
        "horas = int(input(\"Ingrese las horas a simular: \"))\n",
        "minutos = int(input(\"Ingrese los minutos a simular: \"))\n",
        "segundos = int(input(\"Ingrese los segundos a simular: \"))\n",
        "reloj(horas, minutos, segundos)\n"
      ],
      "metadata": {
        "id": "TNtqU-RQ9gTq"
      },
      "execution_count": null,
      "outputs": []
    }
  ]
}