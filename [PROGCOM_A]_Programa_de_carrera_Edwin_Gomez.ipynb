{
  "nbformat": 4,
  "nbformat_minor": 0,
  "metadata": {
    "colab": {
      "provenance": []
    },
    "kernelspec": {
      "name": "python3",
      "display_name": "Python 3"
    },
    "language_info": {
      "name": "python"
    }
  },
  "cells": [
    {
      "cell_type": "markdown",
      "source": [
        "##Programa que genera contraseñas seguras aleatorias con letras, números y símbolos\n",
        "\n",
        "\n",
        "¿Por qué es útil en Ingeniería de Sistemas?\n",
        "1. Seguridad informática es clave en la carrera de ingenieria de sistemas.\n",
        "\n",
        "2. Genera contraseñas seguras para proteger sistemas y usuarios."
      ],
      "metadata": {
        "id": "GZhX0f1hZrFg"
      }
    },
    {
      "cell_type": "code",
      "execution_count": null,
      "metadata": {
        "id": "XLAYx2MVZqbK"
      },
      "outputs": [],
      "source": [
        "import random\n",
        "import string\n",
        "\n",
        "def generar_contraseña(longitud):\n",
        "    caracteres = string.ascii_letters + string.digits + string.punctuation\n",
        "    return ''.join(random.choice(caracteres) for _ in range(longitud))\n",
        "\n",
        "print(\"🔐 Generador de Contraseñas Seguras\")\n",
        "\n",
        "while True:\n",
        "    try:\n",
        "        longitud = int(input(\"¿Cuántos caracteres quieres? (mínimo 8): \"))\n",
        "        if longitud < 8:\n",
        "            print(\"❌ La longitud debe ser al menos 8 caracteres. Intenta de nuevo.\")\n",
        "        else:\n",
        "            break\n",
        "    except ValueError:\n",
        "        print(\"❌ Ingresa un número válido.\")\n",
        "\n",
        "contraseña = generar_contraseña(longitud)\n",
        "print(f\"✅ Tu contraseña segura es: {contraseña}\")\n"
      ]
    }
  ]
}