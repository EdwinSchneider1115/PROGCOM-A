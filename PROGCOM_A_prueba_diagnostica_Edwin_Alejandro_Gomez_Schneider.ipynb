{
  "cells": [
    {
      "cell_type": "markdown",
      "metadata": {
        "id": "8bz_e1XjqRCc"
      },
      "source": [
        "#Edwin Alejandro Gomez Schneider\n",
        "##U00183061\n",
        "\n",
        "##estructura if\n",
        "if (condición): la condición debe ser verdadera si se desea que pase algo\n",
        "if TRUE\n",
        "\n",
        "## estructura ternaria del if\n",
        "se cumple la condición *if* condición *else* si no cumple la condición"
      ]
    },
    {
      "cell_type": "code",
      "execution_count": null,
      "metadata": {
        "id": "rSzbfAg9nlpc"
      },
      "outputs": [],
      "source": [
        "#calcular base de un triángulo\n",
        "b=float(input(\"ingrese la base del triángulo:\"))\n",
        "h=float(input(\"ingresa la altura del triángulo:\"))\n",
        "print(f\"el area del triángulo es: {b*h/2}\")"
      ]
    },
    {
      "cell_type": "code",
      "execution_count": null,
      "metadata": {
        "id": "qwFaFwHpswFz"
      },
      "outputs": [],
      "source": [
        "#convierte grados Celsius a Fahrenheit\n",
        "num=int(input(\"ingrese la temperatura en Celsius:\"))\n",
        "print(f\"la temperatura en grados Fahrenheit: {num*+32}\")"
      ]
    },
    {
      "cell_type": "code",
      "execution_count": null,
      "metadata": {
        "id": "h9Nn2HcytOaV"
      },
      "outputs": [],
      "source": [
        "#Desarrolla un programa que calcule el promedio de tres números ingresados por el usuario.\n",
        "num1=float(input(\"ingrese el primer número:\"))\n",
        "num2=float(input(\"ingrese el segundo número:\"))\n",
        "num3=float(input(\"ingrese el tercer número:\"))\n",
        "print(f\"el promedio de los números es: {(num1+num2+num3)/3}\")"
      ]
    },
    {
      "cell_type": "code",
      "execution_count": null,
      "metadata": {
        "id": "DJke1WiNuCSS"
      },
      "outputs": [],
      "source": [
        "#Escribe un programa que calcule el perímetro y área de un círculo dado su radio.\n",
        "radio=float(input(\"ingrese el radio del círculo:\"))\n",
        "print(f\"el perímetro del círculo es: {2*3.1416*radio}\")\n",
        "print(f\"el área del círculo es: {3.1416*radio**2}\")"
      ]
    },
    {
      "cell_type": "code",
      "execution_count": null,
      "metadata": {
        "id": "hVwbr35sufTQ"
      },
      "outputs": [],
      "source": [
        "#Crea un programa que resuelva una ecuación cuadrática (ax² + bx + c = 0) pidiendo los valores de a, b y c.\n",
        "a=float(input(\"ingrese el valor de a:\"))\n",
        "b=float(input(\"ingrese el valor de b:\"))\n",
        "c=float(input(\"ingrese el valor de c:\"))\n",
        "print(f\"la ecuación es: {a}x²+{b}x+{c}=0\")\n",
        "print(f\"la solución de la ecuación es: {(-b+(b**2-4*a*c)**1/2)/(2*a)} y {(-b-(b**2-4*a*c)**1/2)/(2*a)}\")"
      ]
    },
    {
      "cell_type": "code",
      "execution_count": null,
      "metadata": {
        "id": "J902cSVAu8-v"
      },
      "outputs": [],
      "source": [
        "#Desarrolla un programa que determine si un número es par o impar.\n",
        "#if normal\n",
        "num=int(input(\"ingrese un número:\"))\n",
        "if num%2==0:\n",
        "    print(f\"{num} es par\")\n",
        "else:\n",
        "    print(f\"{num} es impar\")"
      ]
    },
    {
      "cell_type": "code",
      "execution_count": null,
      "metadata": {
        "id": "k93ptLMqqQR5"
      },
      "outputs": [],
      "source": [
        "#Desarrolla un programa que determine si un número es par o impar.\n",
        "#if ternario\n",
        "num= int(input(\"ingrese un número:\"))\n",
        "print(f\"{num} es par\") if num%2==0 else (f\"{num} es impar\")"
      ]
    },
    {
      "cell_type": "code",
      "execution_count": null,
      "metadata": {
        "id": "d8kzT1mtvSYY"
      },
      "outputs": [],
      "source": [
        "#Crea un programa que determine si un año es bisiesto (divisible por 4 y no por 100, o divisible por 400).\n",
        "#if normal\n",
        "año=int(input(\"ingrese un año:\"))\n",
        "if año%4==0 and año%100!=0:\n",
        "  print(f\"{año} es bisiesto\")\n",
        "else:\n",
        "  print(f\"{año} no es bisiesto\")"
      ]
    },
    {
      "cell_type": "code",
      "execution_count": null,
      "metadata": {
        "id": "d77trYulv1nh"
      },
      "outputs": [],
      "source": [
        "#Crea un programa que determine si un año es bisiesto (divisible por 4 y no por 100, o divisible por 400).\n",
        "#if ternario\n",
        "año=int(input(\"ingrese un año:\"))\n",
        "print(f\"{año} es bisiesto\") if año%4==0 and año%100!=0 else print(f\"{año} no es bisiesto\")"
      ]
    },
    {
      "cell_type": "code",
      "execution_count": null,
      "metadata": {
        "id": "L6t4CrAKwBi8"
      },
      "outputs": [],
      "source": [
        "#Escribe un programa que solicite el nombre del usuario y determine si una persona pertenece a la tercera edad (70 años o más) y si se cumple la condición, imprima que se le da prioridad en la fila.\n",
        "#if normal\n",
        "nombre=input(\"ingrese su nombre:\")\n",
        "edad=int(input(\"ingrese su edad:\"))\n",
        "if edad>=70:\n",
        "  print(f\"{nombre}, usted se encuentra en la tercera edad y se le da prioridad en la fila.\")\n",
        "else:\n",
        "  print(f\"{nombre}, usted no tiene prioridad en la fila, espere en la fila.\")"
      ]
    },
    {
      "cell_type": "code",
      "execution_count": null,
      "metadata": {
        "id": "3nEB6VBIwsMV"
      },
      "outputs": [],
      "source": [
        "#Escribe un programa que solicite el nombre del usuario y determine si una persona pertenece a la tercera edad (70 años o más) y si se cumple la condición, imprima que se le da prioridad en la fila.\n",
        "#if ternario\n",
        "nom= input(\"ingrese su nombre:\")\n",
        "edad= int(input(\"ingrese su edad:\"))\n",
        "print(f\"{nom}, usted se encuentra en la tercera edad y se le da prioridad en la fila.\") if edad>=70 else print(f\"{nom}, usted no tiene prioridad en la fila, espere en la fila.\")"
      ]
    },
    {
      "cell_type": "code",
      "execution_count": null,
      "metadata": {
        "id": "Dkm4cmRIxIEe"
      },
      "outputs": [],
      "source": [
        "#Desarrolla un programa que compare tres números y muestre el mayor.\n",
        "#if normal\n",
        "n1=float(input(\"ingrese el primer número:\"))\n",
        "n2=float(input(\"ingrese el segundo número:\"))\n",
        "n3=float(input(\"ingrese el tercer número:\"))\n",
        "if n1>n2 and n2>n3:\n",
        "  print(f\"el número mayor es: {n1}\")\n",
        "else:\n",
        "  if n2>n1 and n2>n3:\n",
        "    print(f\"el número mayor es: {n2}\")\n",
        "  else:\n",
        "    print(f\"el número mayor es: {n3}\")"
      ]
    },
    {
      "cell_type": "code",
      "execution_count": null,
      "metadata": {
        "id": "B7AUHdwFxz4H"
      },
      "outputs": [],
      "source": [
        "#Desarrolla un programa que compare tres números y muestre el mayor.\n",
        "#if ternario\n",
        "n1=float(input(\"ingrese el primer número:\"))\n",
        "n2=float(input(\"ingrese el segundo número:\"))\n",
        "n3=float(input(\"ingrese el tercer número:\"))\n",
        "print(f\"el número mayor es: {n1}\") if n1>n2 and n2>n3 else print(f\"el número mayor es: {n2}\") if n2>n1 and n2>n3 else print(f\"el número mayor es: {n3}\")"
      ]
    },
    {
      "cell_type": "code",
      "execution_count": null,
      "metadata": {
        "id": "ztgHmENzyLpD"
      },
      "outputs": [],
      "source": [
        "#Crea un programa que determine si un triángulo es equilátero, isósceles o escaleno según sus lados.\n",
        "#if normal\n",
        "l1=float(input(\"ingrese el primer lado del triángulo:\"))\n",
        "l2=float(input(\"ingrese el segundo lado del triángulo:\"))\n",
        "l3=float(input(\"ingrese el tercer lado del triángulo:\"))\n",
        "if l1==l2 and l2==l3:\n",
        "  print(\"el triángulo es equilátero\")\n",
        "else:\n",
        "  if l1==l2 or l2==l3 or l1==l3:\n",
        "    print(\"el triángulo es isósceles\")\n",
        "  else:\n",
        "    print(\"el triángulo es escaleno\")"
      ]
    },
    {
      "cell_type": "code",
      "execution_count": null,
      "metadata": {
        "id": "NwlYkElxyWTS"
      },
      "outputs": [],
      "source": [
        "#Crea un programa que determine si un triángulo es equilátero, isósceles o escaleno según sus lados.\n",
        "#if ternario\n",
        "l1=float(input(\"ingrese el primer lado del triángulo:\"))\n",
        "l2=float(input(\"ingrese el segundo lado del triángulo:\"))\n",
        "l3=float(input(\"ingrese el tercer lado del triángulo:\"))\n",
        "print(\"el triángulo es equilátero\") if l1==l2 and l2==l3 else print(\"el triángulo es isósceles\") if l1==l2 or l2==l3 or l1==l3 else print(\"el triángulo es escaleno\")"
      ]
    },
    {
      "cell_type": "markdown",
      "metadata": {
        "id": "7QsZ_m-xptVC"
      },
      "source": [
        "#ejercicios 6 a 10 con match"
      ]
    },
    {
      "cell_type": "code",
      "execution_count": null,
      "metadata": {
        "id": "kh2okvKwptVC"
      },
      "outputs": [],
      "source": [
        "#par e impar con match\n",
        "def par_impar():\n",
        "    n = int(input(\"Ingrese un número: \"))\n",
        "    match n % 2 == 0:\n",
        "        case True:\n",
        "            return \"Par\"\n",
        "        case False:\n",
        "            return \"Impar\"\n",
        "\n",
        "par_impar()"
      ]
    },
    {
      "cell_type": "code",
      "execution_count": null,
      "metadata": {
        "id": "KHuaSHVKptVD"
      },
      "outputs": [],
      "source": [
        "#año bisiesto con match\n",
        "def bisiesto():\n",
        "    año = int(input(\"Ingrese un año: \"))\n",
        "    match (año % 4 == 0 and año % 100 != 0) or (año % 400 == 0):\n",
        "        case True:\n",
        "            return \"Bisiesto\"\n",
        "        case False:\n",
        "            return \"No bisiesto\"\n",
        "\n",
        "bisiesto()"
      ]
    },
    {
      "cell_type": "code",
      "execution_count": null,
      "metadata": {
        "id": "YbaybqpZptVD"
      },
      "outputs": [],
      "source": [
        "#programa de detectar persona de la tercera edad con match\n",
        "def tercera_edad():\n",
        "    nombre = input(\"Ingrese su nombre: \")\n",
        "    edad = int(input(\"Ingrese su edad: \"))\n",
        "    match edad >= 70:\n",
        "        case True:\n",
        "            return f\"{nombre}, tiene prioridad en la fila.\"\n",
        "        case False:\n",
        "            return f\"{nombre}, no tiene prioridad en la fila.\"\n",
        "\n",
        "tercera_edad()"
      ]
    },
    {
      "cell_type": "code",
      "execution_count": null,
      "metadata": {
        "id": "opu3PeIBptVD"
      },
      "outputs": [],
      "source": [
        "#mayor de los 3 con match\n",
        "\n",
        "def mayor_de_tres():\n",
        "    a = int(input(\"Ingrese el primer número: \"))\n",
        "    b = int(input(\"Ingrese el segundo número: \"))\n",
        "    c = int(input(\"Ingrese el tercer número: \"))\n",
        "    match (a >= b, a >= c, b >= c):\n",
        "        case (True, True, _):\n",
        "            return a\n",
        "        case (False, _, True):\n",
        "            return b\n",
        "        case _:\n",
        "            return c\n",
        "\n",
        "mayor_de_tres()"
      ]
    },
    {
      "cell_type": "code",
      "execution_count": null,
      "metadata": {
        "id": "OehEub66ptVD"
      },
      "outputs": [],
      "source": [
        "#que tipo de triangulo es con match\n",
        "def tipo_triangulo():\n",
        "    l1 = int(input(\"Ingrese el primer lado: \"))\n",
        "    l2 = int(input(\"Ingrese el segundo lado: \"))\n",
        "    l3 = int(input(\"Ingrese el tercer lado: \"))\n",
        "    match (l1 == l2 == l3, l1 == l2 or l2 == l3 or l1 == l3):\n",
        "        case (True, _):\n",
        "            return \"Equilátero\"\n",
        "        case (False, True):\n",
        "            return \"Isósceles\"\n",
        "        case _:\n",
        "            return \"Escaleno\"\n",
        "\n",
        "tipo_triangulo()"
      ]
    },
    {
      "cell_type": "markdown",
      "metadata": {
        "id": "pkVxsF1jptVD"
      },
      "source": [
        "Ejercicios con while y for del 11 al 20\n"
      ]
    },
    {
      "cell_type": "code",
      "execution_count": null,
      "metadata": {
        "id": "kKf4eP3FptVD"
      },
      "outputs": [],
      "source": [
        "# 11. Cálculo del IMC\n",
        "\n",
        "def calcular_imc():\n",
        "    nombre = input(\"Ingrese su nombre: \")\n",
        "    peso = float(input(\"Ingrese su peso en kg: \"))\n",
        "    altura = float(input(\"Ingrese su altura en metros: \"))\n",
        "\n",
        "    imc = peso / (altura ** 2)\n",
        "\n",
        "    categorias = [\"Bajo peso\", \"Peso normal\", \"Sobrepeso\", \"Obesidad\"]\n",
        "    limites = [18.5, 24.9, 29.9, float('inf')]\n",
        "    consejos = [\n",
        "        \"Debe alimentarse mejor y consultar a un nutricionista.\",\n",
        "        \"Manténgase en su peso actual con una dieta equilibrada.\",\n",
        "        \"Debe hacer más ejercicio y mejorar su alimentación.\",\n",
        "        \"Consulte a un especialista para un plan de salud adecuado.\"\n",
        "    ]\n",
        "\n",
        "    for i in range(len(limites)):\n",
        "        if imc < limites[i]:\n",
        "            print(f\"{nombre}, su categoría es {categorias[i]}. {consejos[i]}\")\n",
        "            break\n",
        "\n",
        "calcular_imc()"
      ]
    },
    {
      "cell_type": "code",
      "execution_count": null,
      "metadata": {
        "id": "mBsWiM4pptVD"
      },
      "outputs": [],
      "source": [
        "# 12. Calculadora Simple\n",
        "\n",
        "def calculadora():\n",
        "    num1 = float(input(\"Ingrese el primer número: \"))\n",
        "    num2 = float(input(\"Ingrese el segundo número: \"))\n",
        "    operador = input(\"Ingrese la operación (+, -, *, /): \")\n",
        "\n",
        "    while operador not in ['+', '-', '*', '/']:\n",
        "        operador = input(\"Operador no válido. Intente de nuevo: \")\n",
        "\n",
        "    resultado = 0\n",
        "    if operador == '+':\n",
        "        resultado = num1 + num2\n",
        "    elif operador == '-':\n",
        "        resultado = num1 - num2\n",
        "    elif operador == '*':\n",
        "        resultado = num1 * num2\n",
        "    elif operador == '/' and num2 != 0:\n",
        "        resultado = num1 / num2\n",
        "\n",
        "    print(f\"Resultado: {resultado}\")\n",
        "\n",
        "calculadora()"
      ]
    },
    {
      "cell_type": "code",
      "execution_count": null,
      "metadata": {
        "id": "e69D18FAptVD"
      },
      "outputs": [],
      "source": [
        "# 13. Calificación en letras\n",
        "\n",
        "def calificacion():\n",
        "    nota = int(input(\"Ingrese su nota (0-100): \"))\n",
        "    letras = ['A', 'B', 'C', 'D', 'F']\n",
        "    limites = [90, 80, 70, 60, 0]\n",
        "\n",
        "    for i in range(len(limites)):\n",
        "        if nota >= limites[i]:\n",
        "            print(f\"Calificación: {letras[i]}\")\n",
        "            break\n",
        "\n",
        "calificacion()"
      ]
    },
    {
      "cell_type": "code",
      "execution_count": null,
      "metadata": {
        "id": "CW9zYpSFptVD"
      },
      "outputs": [],
      "source": [
        "# 14. Día de la semana\n",
        "\n",
        "def dia_semana():\n",
        "    numero = int(input(\"Ingrese un número (1-7): \"))\n",
        "    dias = [\"Lunes\", \"Martes\", \"Miércoles\", \"Jueves\", \"Viernes\", \"Sábado\", \"Domingo\"]\n",
        "\n",
        "    while numero < 1 or numero > 7:\n",
        "        numero = int(input(\"Número inválido. Ingrese un número (1-7): \"))\n",
        "\n",
        "    print(f\"El día es {dias[numero - 1]}\")\n",
        "\n",
        "dia_semana()"
      ]
    },
    {
      "cell_type": "code",
      "execution_count": null,
      "metadata": {
        "id": "ySW6kvt6ptVD"
      },
      "outputs": [],
      "source": [
        "# 15. Validar triángulo\n",
        "\n",
        "def validar_triangulo():\n",
        "    lados = [float(input(f\"Ingrese el lado {i+1}: \")) for i in range(3)]\n",
        "    a, b, c = lados\n",
        "\n",
        "    if a + b > c and a + c > b and b + c > a:\n",
        "        tipos = [\"Equilátero\", \"Isósceles\", \"Escaleno\"]\n",
        "        condiciones = [a == b == c, a == b or a == c or b == c, True]\n",
        "        for i in range(3):\n",
        "            if condiciones[i]:\n",
        "                print(f\"Es un triángulo {tipos[i]}.\")\n",
        "                break\n",
        "    else:\n",
        "        print(\"No es un triángulo válido.\")\n",
        "\n",
        "validar_triangulo()"
      ]
    },
    {
      "cell_type": "code",
      "execution_count": null,
      "metadata": {
        "id": "L5jBnSfAptVE"
      },
      "outputs": [],
      "source": [
        "# 16. Tabla de multiplicar\n",
        "\n",
        "def tabla_multiplicar():\n",
        "    num = int(input(\"Ingrese un número: \"))\n",
        "    for i in range(1, 11):\n",
        "        print(f\"{num} x {i} = {num * i}\")\n",
        "\n",
        "tabla_multiplicar()"
      ]
    },
    {
      "cell_type": "code",
      "execution_count": null,
      "metadata": {
        "id": "WEMTR6R6ptVE"
      },
      "outputs": [],
      "source": [
        "# 17. Suma de números naturales\n",
        "\n",
        "def suma_naturales():\n",
        "    n = int(input(\"Ingrese un número: \"))\n",
        "    suma = sum(range(1, n + 1))\n",
        "    print(f\"La suma es: {suma}\")\n",
        "\n",
        "suma_naturales()"
      ]
    },
    {
      "cell_type": "code",
      "execution_count": null,
      "metadata": {
        "id": "NNnD2RfXptVE"
      },
      "outputs": [],
      "source": [
        "# 18. Factorial\n",
        "\n",
        "def factorial():\n",
        "    n = int(input(\"Ingrese un número: \"))\n",
        "    resultado = 1\n",
        "    for i in range(1, n + 1):\n",
        "        resultado *= i\n",
        "    print(f\"El factorial de {n} es {resultado}\")\n",
        "\n",
        "factorial()"
      ]
    },
    {
      "cell_type": "code",
      "execution_count": null,
      "metadata": {
        "id": "0M1VyA7eptVE"
      },
      "outputs": [],
      "source": [
        "# 19. Serie Fibonacci\n",
        "\n",
        "def fibonacci():\n",
        "    n = int(input(\"Ingrese cuántos números de Fibonacci quiere ver: \"))\n",
        "    a, b = 0, 1\n",
        "    for _ in range(n):\n",
        "        print(a, end=\" \")\n",
        "        a, b = b, a + b\n",
        "\n",
        "fibonacci()"
      ]
    },
    {
      "cell_type": "code",
      "execution_count": null,
      "metadata": {
        "id": "qgCagdvNptVE"
      },
      "outputs": [],
      "source": [
        "# 20. Adivinar el color\n",
        "\n",
        "def adivinar_color2():\n",
        "    colores = [input(f\"Ingrese el color {i+1}: \") for i in range(10)]\n",
        "    import random\n",
        "    secreto = random.choice(colores)\n",
        "\n",
        "    for intentos in range(10):\n",
        "        intento = input(\"Adivine el color: \")\n",
        "        if intento == secreto:\n",
        "            print(\"¡Correcto! Adivinaste el color.\")\n",
        "            break\n",
        "    else:\n",
        "        print(f\"Lo siento, el color era {secreto}\")\n",
        "\n",
        "adivinar_color2()"
      ]
    },
    {
      "cell_type": "markdown",
      "metadata": {
        "id": "do_4VsUOptVE"
      },
      "source": [
        "## Q.obligatorio: documentar todos los errores que salgan de ahora en adelante\n",
        "\n",
        "SintaxError: invalid syntax"
      ]
    },
    {
      "cell_type": "markdown",
      "metadata": {
        "id": "j8vvludkptVE"
      },
      "source": [
        "## del 6 al 20 con funciones"
      ]
    },
    {
      "cell_type": "code",
      "execution_count": null,
      "metadata": {
        "id": "-K29iOD7ptVE",
        "outputId": "559df387-5aa1-47c4-ddaf-39975554b7b9"
      },
      "outputs": [
        {
          "name": "stdout",
          "output_type": "stream",
          "text": [
            "Impar\n"
          ]
        }
      ],
      "source": [
        "# Ejercicio 6: Determinar si un número es par o impar\n",
        "def obtener_numero():\n",
        "    return int(input(\"Ingrese un número: \"))\n",
        "\n",
        "def determinar_par_impar(num):\n",
        "    if num % 2 == 0:\n",
        "        print(\"Par\")\n",
        "    else:\n",
        "        print(\"Impar\")\n",
        "\n",
        "determinar_par_impar(obtener_numero())\n"
      ]
    },
    {
      "cell_type": "code",
      "execution_count": null,
      "metadata": {
        "id": "A2RdxQkFptVF",
        "outputId": "cc7c5431-41eb-4dac-fea7-09a3b477d5f5"
      },
      "outputs": [
        {
          "name": "stdout",
          "output_type": "stream",
          "text": [
            "No es bisiesto\n"
          ]
        }
      ],
      "source": [
        "# Ejercicio 7: Determinar si un año es bisiesto\n",
        "def determinar_bisiesto():\n",
        "    ano = int(input(\"Ingrese un año: \"))\n",
        "    if (ano % 4 == 0 and ano % 100 != 0) or (ano % 400 == 0):\n",
        "        print(\"Bisiesto\")\n",
        "    else:\n",
        "        print(\"No es bisiesto\")\n",
        "\n",
        "determinar_bisiesto()"
      ]
    },
    {
      "cell_type": "code",
      "execution_count": null,
      "metadata": {
        "id": "H0OaqAnkptVF"
      },
      "outputs": [],
      "source": [
        "# Ejercicio 8: Determinar si una persona pertenece a la tercera edad\n",
        "def obtener_datos():\n",
        "    nombre = input(\"Ingrese su nombre: \")\n",
        "    edad = int(input(\"Ingrese su edad: \"))\n",
        "    return nombre, edad\n",
        "\n",
        "def verificar_tercera_edad(nombre, edad):\n",
        "    if edad >= 70:\n",
        "        print(f\"{nombre}, tienes prioridad en la fila.\")\n",
        "    else:\n",
        "        print(f\"{nombre}, no tienes prioridad en la fila.\")\n",
        "\n",
        "nombre, edad = obtener_datos()\n",
        "verificar_tercera_edad(nombre, edad)"
      ]
    },
    {
      "cell_type": "code",
      "execution_count": null,
      "metadata": {
        "id": "QdnpSgq3ptVF"
      },
      "outputs": [],
      "source": [
        "# Ejercicio 9: Comparar tres números y mostrar el mayor\n",
        "def obtener_tres_numeros():\n",
        "    return [float(input(f\"Ingrese el número {i+1}: \")) for i in range(3)]\n",
        "\n",
        "def encontrar_mayor(numeros):\n",
        "    print(f\"El mayor es {max(numeros)}\")\n",
        "\n",
        "encontrar_mayor(obtener_tres_numeros())"
      ]
    },
    {
      "cell_type": "code",
      "execution_count": null,
      "metadata": {
        "id": "BFyQLw9tptVG"
      },
      "outputs": [],
      "source": [
        "# Ejercicio 10: Determinar tipo de triángulo\n",
        "def obtener_lados():\n",
        "    return [float(input(f\"Ingrese el lado {i+1}: \")) for i in range(3)]\n",
        "\n",
        "def determinar_triangulo(lados):\n",
        "    if lados[0] == lados[1] == lados[2]:\n",
        "        print(\"Equilátero\")\n",
        "    elif lados[0] == lados[1] or lados[1] == lados[2] or lados[0] == lados[2]:\n",
        "        print(\"Isósceles\")\n",
        "    else:\n",
        "        print(\"Escaleno\")\n",
        "\n",
        "determinar_triangulo(obtener_lados())"
      ]
    },
    {
      "cell_type": "code",
      "execution_count": null,
      "metadata": {
        "id": "H9XinVOaptVH"
      },
      "outputs": [],
      "source": [
        "# Ejercicio 11: Calcular el IMC\n",
        "def calcular_imc():\n",
        "    peso = float(input(\"Ingrese su peso en kg: \"))\n",
        "    altura = float(input(\"Ingrese su altura en metros: \"))\n",
        "    imc = peso / (altura ** 2)\n",
        "    if imc < 18.5:\n",
        "        categoria = \"Bajo peso\"\n",
        "    elif imc < 25:\n",
        "        categoria = \"Normal\"\n",
        "    elif imc < 30:\n",
        "        categoria = \"Sobrepeso\"\n",
        "    else:\n",
        "        categoria = \"Obesidad\"\n",
        "    print(f\"Su IMC es {imc:.2f}, categoría: {categoria}\")\n",
        "\n",
        "calcular_imc()\n"
      ]
    },
    {
      "cell_type": "code",
      "execution_count": null,
      "metadata": {
        "id": "2z_v4yjuptVH"
      },
      "outputs": [],
      "source": [
        "# Ejercicio 12: Calculadora simple\n",
        "def calculadora():\n",
        "    num1 = float(input(\"Ingrese el primer número: \"))\n",
        "    operador = input(\"Ingrese la operación (+, -, *, /): \")\n",
        "    num2 = float(input(\"Ingrese el segundo número: \"))\n",
        "    if operador == '+':\n",
        "        print(num1 + num2)\n",
        "    elif operador == '-':\n",
        "        print(num1 - num2)\n",
        "    elif operador == '*':\n",
        "        print(num1 * num2)\n",
        "    elif operador == '/':\n",
        "        if num2 != 0:\n",
        "            print(num1 / num2)\n",
        "        else:\n",
        "            print(\"Error: División por cero\")\n",
        "    else:\n",
        "        print(\"Operador inválido\")\n",
        "\n",
        "calculadora()"
      ]
    },
    {
      "cell_type": "code",
      "execution_count": null,
      "metadata": {
        "id": "HeIcNs6kptVH"
      },
      "outputs": [],
      "source": [
        "def calificacion_letra():\n",
        "    nota = int(input(\"Ingrese una calificación (0-100): \"))\n",
        "    if nota >= 90:\n",
        "        print(\"A\")\n",
        "    elif nota >= 80:\n",
        "        print(\"B\")\n",
        "    elif nota >= 70:\n",
        "        print(\"C\")\n",
        "    elif nota >= 60:\n",
        "        print(\"D\")\n",
        "    else:\n",
        "        print(\"F\")\n",
        "\n",
        "calificacion_letra()"
      ]
    },
    {
      "cell_type": "code",
      "execution_count": null,
      "metadata": {
        "id": "m50O1L2gptVH"
      },
      "outputs": [],
      "source": [
        "# Ejercicio 14: Determinar el día de la semana\n",
        "def determinar_dia_semana():\n",
        "    num = int(input(\"Ingrese un número (1-7): \"))\n",
        "    dias = [\"Lunes\", \"Martes\", \"Miércoles\", \"Jueves\", \"Viernes\", \"Sábado\", \"Domingo\"]\n",
        "    if 1 <= num <= 7:\n",
        "        print(dias[num - 1])\n",
        "    else:\n",
        "        print(\"Número inválido\")\n",
        "\n",
        "determinar_dia_semana()"
      ]
    },
    {
      "cell_type": "code",
      "execution_count": null,
      "metadata": {
        "id": "9FlcKzDiptVH"
      },
      "outputs": [],
      "source": [
        "# Ejercicio 15: Validar triángulo\n",
        "def validar_triangulo():\n",
        "    lados = [float(input(f\"Ingrese el lado {i+1}: \")) for i in range(3)]\n",
        "    if lados[0] + lados[1] > lados[2] and lados[0] + lados[2] > lados[1] and lados[1] + lados[2] > lados[0]:\n",
        "        print(\"Forman un triángulo\")\n",
        "    else:\n",
        "        print(\"No forman un triángulo\")\n",
        "\n",
        "validar_triangulo()"
      ]
    },
    {
      "cell_type": "code",
      "execution_count": null,
      "metadata": {
        "id": "nrwzcfXCptVI"
      },
      "outputs": [],
      "source": [
        "# Ejercicio 16: Tabla de multiplicar\n",
        "def mostrar_tabla():\n",
        "    num = int(input(\"Ingrese un número: \"))\n",
        "    for i in range(1, 11):\n",
        "        print(f\"{num} x {i} = {num * i}\")\n",
        "\n",
        "mostrar_tabla()"
      ]
    },
    {
      "cell_type": "code",
      "execution_count": null,
      "metadata": {
        "id": "t3AHqCJCptVI"
      },
      "outputs": [],
      "source": [
        "# Ejercicio 17: Suma de números naturales\n",
        "def suma_naturales():\n",
        "    n = int(input(\"Ingrese un número: \"))\n",
        "    suma = sum(range(1, n + 1))\n",
        "    print(f\"La suma de los primeros {n} números naturales es {suma}\")\n",
        "\n",
        "suma_naturales()"
      ]
    },
    {
      "cell_type": "code",
      "execution_count": null,
      "metadata": {
        "id": "VzinncnTptVI"
      },
      "outputs": [],
      "source": [
        "# Ejercicio 18: Factorial\n",
        "def calcular_factorial():\n",
        "    n = int(input(\"Ingrese un número: \"))\n",
        "    factorial = 1\n",
        "    for i in range(1, n + 1):\n",
        "        factorial *= i\n",
        "    print(f\"El factorial de {n} es {factorial}\")\n",
        "\n",
        "calcular_factorial()"
      ]
    },
    {
      "cell_type": "code",
      "execution_count": null,
      "metadata": {
        "id": "uNA2cfdrptVI"
      },
      "outputs": [],
      "source": [
        "# Ejercicio 19: Serie Fibonacci\n",
        "def generar_fibonacci():\n",
        "    n = int(input(\"Ingrese un número: \"))\n",
        "    a, b = 0, 1\n",
        "    for _ in range(n):\n",
        "        print(a, end=\" \")\n",
        "        a, b = b, a + b\n",
        "    print()\n",
        "\n",
        "generar_fibonacci()"
      ]
    },
    {
      "cell_type": "code",
      "execution_count": null,
      "metadata": {
        "id": "TRnGs1uHptVI"
      },
      "outputs": [],
      "source": [
        "# Ejercicio 20: Adivinar un color\n",
        "def adivinar_color():\n",
        "    colores = [input(f\"Ingrese el color {i+1}: \") for i in range(10)]\n",
        "    color_secreto = colores[0]\n",
        "    intentos = 10\n",
        "    while intentos > 0:\n",
        "        intento = input(\"Adivine el color secreto: \")\n",
        "        if intento == color_secreto:\n",
        "            print(\"¡Correcto!\")\n",
        "            return\n",
        "        intentos -= 1\n",
        "        print(f\"Incorrecto. Te quedan {intentos} intentos.\")\n",
        "    print(f\"Perdiste. El color era {color_secreto}.\")\n",
        "\n",
        "adivinar_color()"
      ]
    },
    {
      "cell_type": "markdown",
      "source": [
        "##del 20 al 25 con lambda"
      ],
      "metadata": {
        "id": "BjtRf9gUpuld"
      }
    },
    {
      "cell_type": "code",
      "source": [
        "# 20. Adivinar un color con funciones lambda\n",
        "colores = {0: \"rojo\", 1: \"azul\", 2: \"verde\", 3: \"amarillo\", 4: \"naranja\", 5: \"morado\", 6: \"rosa\", 7: \"marrón\", 8: \"negro\", 9: \"blanco\"}\n",
        "print(\"Colores posibles:\", list(colores.values()))\n",
        "color_secreto = input(\"Ingrese el color secreto: \")\n",
        "adivinar_color = lambda colores, secreto: next(({\"resultado\": f\"Adivinado en {i+1} intentos\"} for i, color in colores.items() if color == secreto), {\"resultado\": \"No adivinaste\"})\n",
        "resultado = adivinar_color(colores, color_secreto)\n",
        "print(resultado)\n",
        "\n"
      ],
      "metadata": {
        "id": "IfsNOA16p2uo"
      },
      "execution_count": null,
      "outputs": []
    },
    {
      "cell_type": "code",
      "source": [
        "# 21. Números pares del 1 al 100 con funciones lambda\n",
        "numeros_pares = lambda: {\"pares\": {i: i for i in range(2, 101, 2)}}\n",
        "print(numeros_pares())\n"
      ],
      "metadata": {
        "id": "Z2ZPzP7tqtZL"
      },
      "execution_count": null,
      "outputs": []
    },
    {
      "cell_type": "code",
      "source": [
        "# 22. Suma de los dígitos de un número con funciones lambda\n",
        "suma_digitos = lambda a, b: {\"suma_digitos\": sum(map(int, str(a))) + sum(map(int, str(b)))}\n",
        "a = input(\"Ingrese el primer número: \")\n",
        "b = input(\"Ingrese el segundo número: \")\n",
        "print(suma_digitos(a, b))"
      ],
      "metadata": {
        "id": "o_Xi7R_Kqy8G"
      },
      "execution_count": null,
      "outputs": []
    },
    {
      "cell_type": "code",
      "source": [
        "# 23. Determinar si un número es primo con funciones lambda\n",
        "es_primo = lambda n: {\"primo\": all(n % i != 0 for i in range(2, int(n**0.5) + 1))} if n > 1 else {\"primo\": False}\n",
        "n = int(input(\"Ingrese un número: \"))\n",
        "print(es_primo(n))"
      ],
      "metadata": {
        "id": "5q8KDkFPrCAW"
      },
      "execution_count": null,
      "outputs": []
    },
    {
      "cell_type": "code",
      "source": [
        "# 24. Patrón de triángulo con asteriscos con funciones lambda\n",
        "triangulo = lambda n: {\"triangulo\": {i: '*' * i for i in range(1, n + 1)}}\n",
        "n = int(input(\"Ingrese el número de filas: \"))\n",
        "print(triangulo(n))"
      ],
      "metadata": {
        "id": "mQeKH23jrIAB"
      },
      "execution_count": null,
      "outputs": []
    },
    {
      "cell_type": "code",
      "source": [
        "# 25. Potencia de un número sin usar ** con funciones lambda\n",
        "potencia = lambda base, exp: {\"potencia\": (lambda b, e: 1 if e == 0 else b * potencia(b, e - 1)[\"potencia\"])(base, exp)}\n",
        "base = int(input(\"Ingrese la base: \"))\n",
        "exponente = int(input(\"Ingrese el exponente: \"))\n",
        "print(potencia(base, exponente))\n"
      ],
      "metadata": {
        "id": "ANs8Cx2prMOD"
      },
      "execution_count": null,
      "outputs": []
    }
  ],
  "metadata": {
    "colab": {
      "provenance": []
    },
    "kernelspec": {
      "display_name": "Python 3",
      "name": "python3"
    },
    "language_info": {
      "codemirror_mode": {
        "name": "ipython",
        "version": 3
      },
      "file_extension": ".py",
      "mimetype": "text/x-python",
      "name": "python",
      "nbconvert_exporter": "python",
      "pygments_lexer": "ipython3",
      "version": "3.12.1"
    }
  },
  "nbformat": 4,
  "nbformat_minor": 0
}