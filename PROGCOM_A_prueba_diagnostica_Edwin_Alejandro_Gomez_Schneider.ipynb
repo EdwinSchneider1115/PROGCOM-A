{
  "cells": [
    {
      "cell_type": "markdown",
      "metadata": {
        "id": "8bz_e1XjqRCc"
      },
      "source": [
        "#Edwin Alejandro Gomez Schneider\n",
        "##U00183061\n",
        "\n",
        "##estructura if\n",
        "if (condición): la condición debe ser verdadera si se desea que pase algo\n",
        "if TRUE\n",
        "\n",
        "## estructura ternaria del if\n",
        "se cumple la condición *if* condición *else* si no cumple la condición"
      ]
    },
    {
      "cell_type": "code",
      "execution_count": null,
      "metadata": {
        "id": "rSzbfAg9nlpc"
      },
      "outputs": [],
      "source": [
        "#calcular base de un triángulo\n",
        "b=float(input(\"ingrese la base del triángulo:\"))\n",
        "h=float(input(\"ingresa la altura del triángulo:\"))\n",
        "print(f\"el area del triángulo es: {b*h/2}\")"
      ]
    },
    {
      "cell_type": "code",
      "execution_count": null,
      "metadata": {
        "id": "qwFaFwHpswFz"
      },
      "outputs": [],
      "source": [
        "#convierte grados Celsius a Fahrenheit\n",
        "num=int(input(\"ingrese la temperatura en Celsius:\"))\n",
        "print(f\"la temperatura en grados Fahrenheit: {num*+32}\")"
      ]
    },
    {
      "cell_type": "code",
      "execution_count": null,
      "metadata": {
        "id": "h9Nn2HcytOaV"
      },
      "outputs": [],
      "source": [
        "#Desarrolla un programa que calcule el promedio de tres números ingresados por el usuario.\n",
        "num1=float(input(\"ingrese el primer número:\"))\n",
        "num2=float(input(\"ingrese el segundo número:\"))\n",
        "num3=float(input(\"ingrese el tercer número:\"))\n",
        "print(f\"el promedio de los números es: {(num1+num2+num3)/3}\")"
      ]
    },
    {
      "cell_type": "code",
      "execution_count": null,
      "metadata": {
        "id": "DJke1WiNuCSS"
      },
      "outputs": [],
      "source": [
        "#Escribe un programa que calcule el perímetro y área de un círculo dado su radio.\n",
        "radio=float(input(\"ingrese el radio del círculo:\"))\n",
        "print(f\"el perímetro del círculo es: {2*3.1416*radio}\")\n",
        "print(f\"el área del círculo es: {3.1416*radio**2}\")"
      ]
    },
    {
      "cell_type": "code",
      "execution_count": null,
      "metadata": {
        "id": "hVwbr35sufTQ"
      },
      "outputs": [],
      "source": [
        "#Crea un programa que resuelva una ecuación cuadrática (ax² + bx + c = 0) pidiendo los valores de a, b y c.\n",
        "a=float(input(\"ingrese el valor de a:\"))\n",
        "b=float(input(\"ingrese el valor de b:\"))\n",
        "c=float(input(\"ingrese el valor de c:\"))\n",
        "print(f\"la ecuación es: {a}x²+{b}x+{c}=0\")\n",
        "print(f\"la solución de la ecuación es: {(-b+(b**2-4*a*c)**1/2)/(2*a)} y {(-b-(b**2-4*a*c)**1/2)/(2*a)}\")"
      ]
    },
    {
      "cell_type": "code",
      "execution_count": null,
      "metadata": {
        "id": "J902cSVAu8-v"
      },
      "outputs": [],
      "source": [
        "#Desarrolla un programa que determine si un número es par o impar.\n",
        "#if normal\n",
        "num=int(input(\"ingrese un número:\"))\n",
        "if num%2==0:\n",
        "    print(f\"{num} es par\")\n",
        "else:\n",
        "    print(f\"{num} es impar\")"
      ]
    },
    {
      "cell_type": "code",
      "execution_count": null,
      "metadata": {
        "id": "k93ptLMqqQR5"
      },
      "outputs": [],
      "source": [
        "#Desarrolla un programa que determine si un número es par o impar.\n",
        "#if ternario\n",
        "num= int(input(\"ingrese un número:\"))\n",
        "print(f\"{num} es par\") if num%2==0 else (f\"{num} es impar\")"
      ]
    },
    {
      "cell_type": "code",
      "execution_count": null,
      "metadata": {
        "id": "d8kzT1mtvSYY"
      },
      "outputs": [],
      "source": [
        "#Crea un programa que determine si un año es bisiesto (divisible por 4 y no por 100, o divisible por 400).\n",
        "#if normal\n",
        "año=int(input(\"ingrese un año:\"))\n",
        "if año%4==0 and año%100!=0:\n",
        "  print(f\"{año} es bisiesto\")\n",
        "else:\n",
        "  print(f\"{año} no es bisiesto\")"
      ]
    },
    {
      "cell_type": "code",
      "execution_count": null,
      "metadata": {
        "id": "d77trYulv1nh"
      },
      "outputs": [],
      "source": [
        "#Crea un programa que determine si un año es bisiesto (divisible por 4 y no por 100, o divisible por 400).\n",
        "#if ternario\n",
        "año=int(input(\"ingrese un año:\"))\n",
        "print(f\"{año} es bisiesto\") if año%4==0 and año%100!=0 else print(f\"{año} no es bisiesto\")"
      ]
    },
    {
      "cell_type": "code",
      "execution_count": null,
      "metadata": {
        "id": "L6t4CrAKwBi8"
      },
      "outputs": [],
      "source": [
        "#Escribe un programa que solicite el nombre del usuario y determine si una persona pertenece a la tercera edad (70 años o más) y si se cumple la condición, imprima que se le da prioridad en la fila.\n",
        "#if normal\n",
        "nombre=input(\"ingrese su nombre:\")\n",
        "edad=int(input(\"ingrese su edad:\"))\n",
        "if edad>=70:\n",
        "  print(f\"{nombre}, usted se encuentra en la tercera edad y se le da prioridad en la fila.\")\n",
        "else:\n",
        "  print(f\"{nombre}, usted no tiene prioridad en la fila, espere en la fila.\")"
      ]
    },
    {
      "cell_type": "code",
      "execution_count": null,
      "metadata": {
        "id": "3nEB6VBIwsMV"
      },
      "outputs": [],
      "source": [
        "#Escribe un programa que solicite el nombre del usuario y determine si una persona pertenece a la tercera edad (70 años o más) y si se cumple la condición, imprima que se le da prioridad en la fila.\n",
        "#if ternario\n",
        "nom= input(\"ingrese su nombre:\")\n",
        "edad= int(input(\"ingrese su edad:\"))\n",
        "print(f\"{nom}, usted se encuentra en la tercera edad y se le da prioridad en la fila.\") if edad>=70 else print(f\"{nom}, usted no tiene prioridad en la fila, espere en la fila.\")"
      ]
    },
    {
      "cell_type": "code",
      "execution_count": null,
      "metadata": {
        "id": "Dkm4cmRIxIEe"
      },
      "outputs": [],
      "source": [
        "#Desarrolla un programa que compare tres números y muestre el mayor.\n",
        "#if normal\n",
        "n1=float(input(\"ingrese el primer número:\"))\n",
        "n2=float(input(\"ingrese el segundo número:\"))\n",
        "n3=float(input(\"ingrese el tercer número:\"))\n",
        "if n1>n2 and n2>n3:\n",
        "  print(f\"el número mayor es: {n1}\")\n",
        "else:\n",
        "  if n2>n1 and n2>n3:\n",
        "    print(f\"el número mayor es: {n2}\")\n",
        "  else:\n",
        "    print(f\"el número mayor es: {n3}\")"
      ]
    },
    {
      "cell_type": "code",
      "execution_count": null,
      "metadata": {
        "id": "B7AUHdwFxz4H"
      },
      "outputs": [],
      "source": [
        "#Desarrolla un programa que compare tres números y muestre el mayor.\n",
        "#if ternario\n",
        "n1=float(input(\"ingrese el primer número:\"))\n",
        "n2=float(input(\"ingrese el segundo número:\"))\n",
        "n3=float(input(\"ingrese el tercer número:\"))\n",
        "print(f\"el número mayor es: {n1}\") if n1>n2 and n2>n3 else print(f\"el número mayor es: {n2}\") if n2>n1 and n2>n3 else print(f\"el número mayor es: {n3}\")"
      ]
    },
    {
      "cell_type": "code",
      "execution_count": null,
      "metadata": {
        "id": "ztgHmENzyLpD"
      },
      "outputs": [],
      "source": [
        "#Crea un programa que determine si un triángulo es equilátero, isósceles o escaleno según sus lados.\n",
        "#if normal\n",
        "l1=float(input(\"ingrese el primer lado del triángulo:\"))\n",
        "l2=float(input(\"ingrese el segundo lado del triángulo:\"))\n",
        "l3=float(input(\"ingrese el tercer lado del triángulo:\"))\n",
        "if l1==l2 and l2==l3:\n",
        "  print(\"el triángulo es equilátero\")\n",
        "else:\n",
        "  if l1==l2 or l2==l3 or l1==l3:\n",
        "    print(\"el triángulo es isósceles\")\n",
        "  else:\n",
        "    print(\"el triángulo es escaleno\")"
      ]
    },
    {
      "cell_type": "code",
      "execution_count": null,
      "metadata": {
        "id": "NwlYkElxyWTS"
      },
      "outputs": [],
      "source": [
        "#Crea un programa que determine si un triángulo es equilátero, isósceles o escaleno según sus lados.\n",
        "#if ternario\n",
        "l1=float(input(\"ingrese el primer lado del triángulo:\"))\n",
        "l2=float(input(\"ingrese el segundo lado del triángulo:\"))\n",
        "l3=float(input(\"ingrese el tercer lado del triángulo:\"))\n",
        "print(\"el triángulo es equilátero\") if l1==l2 and l2==l3 else print(\"el triángulo es isósceles\") if l1==l2 or l2==l3 or l1==l3 else print(\"el triángulo es escaleno\")"
      ]
    },
    {
      "cell_type": "markdown",
      "metadata": {},
      "source": [
        "#ejercicios 6 a 10 con match"
      ]
    },
    {
      "cell_type": "code",
      "execution_count": null,
      "metadata": {},
      "outputs": [],
      "source": [
        "#par e impar con match\n",
        "def par_impar():\n",
        "    n = int(input(\"Ingrese un número: \"))\n",
        "    match n % 2 == 0:\n",
        "        case True:\n",
        "            return \"Par\"\n",
        "        case False:\n",
        "            return \"Impar\"\n",
        "    \n",
        "par_impar()"
      ]
    },
    {
      "cell_type": "code",
      "execution_count": null,
      "metadata": {},
      "outputs": [],
      "source": [
        "#año bisiesto con match\n",
        "def bisiesto():\n",
        "    año = int(input(\"Ingrese un año: \"))\n",
        "    match (año % 4 == 0 and año % 100 != 0) or (año % 400 == 0):\n",
        "        case True:\n",
        "            return \"Bisiesto\"\n",
        "        case False:\n",
        "            return \"No bisiesto\"\n",
        "        \n",
        "bisiesto()"
      ]
    },
    {
      "cell_type": "code",
      "execution_count": null,
      "metadata": {},
      "outputs": [],
      "source": [
        "#programa de detectar persona de la tercera edad con match\n",
        "def tercera_edad():\n",
        "    nombre = input(\"Ingrese su nombre: \")\n",
        "    edad = int(input(\"Ingrese su edad: \"))\n",
        "    match edad >= 70:\n",
        "        case True:\n",
        "            return f\"{nombre}, tiene prioridad en la fila.\"\n",
        "        case False:\n",
        "            return f\"{nombre}, no tiene prioridad en la fila.\"\n",
        "        \n",
        "tercera_edad()"
      ]
    },
    {
      "cell_type": "code",
      "execution_count": null,
      "metadata": {},
      "outputs": [],
      "source": [
        "#mayor de los 3 con match\n",
        "\n",
        "def mayor_de_tres():\n",
        "    a = int(input(\"Ingrese el primer número: \"))\n",
        "    b = int(input(\"Ingrese el segundo número: \"))\n",
        "    c = int(input(\"Ingrese el tercer número: \"))\n",
        "    match (a >= b, a >= c, b >= c):\n",
        "        case (True, True, _):\n",
        "            return a\n",
        "        case (False, _, True):\n",
        "            return b\n",
        "        case _:\n",
        "            return c\n",
        "        \n",
        "mayor_de_tres()"
      ]
    },
    {
      "cell_type": "code",
      "execution_count": null,
      "metadata": {},
      "outputs": [],
      "source": [
        "#que tipo de triangulo es con match\n",
        "def tipo_triangulo():\n",
        "    l1 = int(input(\"Ingrese el primer lado: \"))\n",
        "    l2 = int(input(\"Ingrese el segundo lado: \"))\n",
        "    l3 = int(input(\"Ingrese el tercer lado: \"))\n",
        "    match (l1 == l2 == l3, l1 == l2 or l2 == l3 or l1 == l3):\n",
        "        case (True, _):\n",
        "            return \"Equilátero\"\n",
        "        case (False, True):\n",
        "            return \"Isósceles\"\n",
        "        case _:\n",
        "            return \"Escaleno\"\n",
        "        \n",
        "tipo_triangulo()"
      ]
    },
    {
      "cell_type": "markdown",
      "metadata": {},
      "source": [
        "Ejercicios con while y for del 11 al 20\n"
      ]
    },
    {
      "cell_type": "code",
      "execution_count": null,
      "metadata": {},
      "outputs": [],
      "source": [
        "# 11. Cálculo del IMC\n",
        "\n",
        "def calcular_imc():\n",
        "    nombre = input(\"Ingrese su nombre: \")\n",
        "    peso = float(input(\"Ingrese su peso en kg: \"))\n",
        "    altura = float(input(\"Ingrese su altura en metros: \"))\n",
        "    \n",
        "    imc = peso / (altura ** 2)\n",
        "    \n",
        "    categorias = [\"Bajo peso\", \"Peso normal\", \"Sobrepeso\", \"Obesidad\"]\n",
        "    limites = [18.5, 24.9, 29.9, float('inf')]\n",
        "    consejos = [\n",
        "        \"Debe alimentarse mejor y consultar a un nutricionista.\",\n",
        "        \"Manténgase en su peso actual con una dieta equilibrada.\",\n",
        "        \"Debe hacer más ejercicio y mejorar su alimentación.\",\n",
        "        \"Consulte a un especialista para un plan de salud adecuado.\"\n",
        "    ]\n",
        "    \n",
        "    for i in range(len(limites)):\n",
        "        if imc < limites[i]:\n",
        "            print(f\"{nombre}, su categoría es {categorias[i]}. {consejos[i]}\")\n",
        "            break\n",
        "\n",
        "calcular_imc()"
      ]
    },
    {
      "cell_type": "code",
      "execution_count": null,
      "metadata": {},
      "outputs": [],
      "source": [
        "# 12. Calculadora Simple\n",
        "\n",
        "def calculadora():\n",
        "    num1 = float(input(\"Ingrese el primer número: \"))\n",
        "    num2 = float(input(\"Ingrese el segundo número: \"))\n",
        "    operador = input(\"Ingrese la operación (+, -, *, /): \")\n",
        "    \n",
        "    while operador not in ['+', '-', '*', '/']:\n",
        "        operador = input(\"Operador no válido. Intente de nuevo: \")\n",
        "    \n",
        "    resultado = 0\n",
        "    if operador == '+':\n",
        "        resultado = num1 + num2\n",
        "    elif operador == '-':\n",
        "        resultado = num1 - num2\n",
        "    elif operador == '*':\n",
        "        resultado = num1 * num2\n",
        "    elif operador == '/' and num2 != 0:\n",
        "        resultado = num1 / num2\n",
        "    \n",
        "    print(f\"Resultado: {resultado}\")\n",
        "\n",
        "calculadora()"
      ]
    },
    {
      "cell_type": "code",
      "execution_count": null,
      "metadata": {},
      "outputs": [],
      "source": [
        "# 13. Calificación en letras\n",
        "\n",
        "def calificacion():\n",
        "    nota = int(input(\"Ingrese su nota (0-100): \"))\n",
        "    letras = ['A', 'B', 'C', 'D', 'F']\n",
        "    limites = [90, 80, 70, 60, 0]\n",
        "    \n",
        "    for i in range(len(limites)):\n",
        "        if nota >= limites[i]:\n",
        "            print(f\"Calificación: {letras[i]}\")\n",
        "            break\n",
        "\n",
        "calificacion()"
      ]
    },
    {
      "cell_type": "code",
      "execution_count": null,
      "metadata": {},
      "outputs": [],
      "source": [
        "# 14. Día de la semana\n",
        "\n",
        "def dia_semana():\n",
        "    numero = int(input(\"Ingrese un número (1-7): \"))\n",
        "    dias = [\"Lunes\", \"Martes\", \"Miércoles\", \"Jueves\", \"Viernes\", \"Sábado\", \"Domingo\"]\n",
        "    \n",
        "    while numero < 1 or numero > 7:\n",
        "        numero = int(input(\"Número inválido. Ingrese un número (1-7): \"))\n",
        "    \n",
        "    print(f\"El día es {dias[numero - 1]}\")\n",
        "\n",
        "dia_semana()"
      ]
    },
    {
      "cell_type": "code",
      "execution_count": null,
      "metadata": {},
      "outputs": [],
      "source": [
        "# 15. Validar triángulo\n",
        "\n",
        "def validar_triangulo():\n",
        "    lados = [float(input(f\"Ingrese el lado {i+1}: \")) for i in range(3)]\n",
        "    a, b, c = lados\n",
        "    \n",
        "    if a + b > c and a + c > b and b + c > a:\n",
        "        tipos = [\"Equilátero\", \"Isósceles\", \"Escaleno\"]\n",
        "        condiciones = [a == b == c, a == b or a == c or b == c, True]\n",
        "        for i in range(3):\n",
        "            if condiciones[i]:\n",
        "                print(f\"Es un triángulo {tipos[i]}.\")\n",
        "                break\n",
        "    else:\n",
        "        print(\"No es un triángulo válido.\")\n",
        "\n",
        "validar_triangulo()"
      ]
    },
    {
      "cell_type": "code",
      "execution_count": null,
      "metadata": {},
      "outputs": [],
      "source": [
        "# 16. Tabla de multiplicar\n",
        "\n",
        "def tabla_multiplicar():\n",
        "    num = int(input(\"Ingrese un número: \"))\n",
        "    for i in range(1, 11):\n",
        "        print(f\"{num} x {i} = {num * i}\")\n",
        "\n",
        "tabla_multiplicar()"
      ]
    },
    {
      "cell_type": "code",
      "execution_count": null,
      "metadata": {},
      "outputs": [],
      "source": [
        "# 17. Suma de números naturales\n",
        "\n",
        "def suma_naturales():\n",
        "    n = int(input(\"Ingrese un número: \"))\n",
        "    suma = sum(range(1, n + 1))\n",
        "    print(f\"La suma es: {suma}\")\n",
        "\n",
        "suma_naturales()"
      ]
    },
    {
      "cell_type": "code",
      "execution_count": null,
      "metadata": {},
      "outputs": [],
      "source": [
        "# 18. Factorial\n",
        "\n",
        "def factorial():\n",
        "    n = int(input(\"Ingrese un número: \"))\n",
        "    resultado = 1\n",
        "    for i in range(1, n + 1):\n",
        "        resultado *= i\n",
        "    print(f\"El factorial de {n} es {resultado}\")\n",
        "\n",
        "factorial()"
      ]
    },
    {
      "cell_type": "code",
      "execution_count": null,
      "metadata": {},
      "outputs": [],
      "source": [
        "# 19. Serie Fibonacci\n",
        "\n",
        "def fibonacci():\n",
        "    n = int(input(\"Ingrese cuántos números de Fibonacci quiere ver: \"))\n",
        "    a, b = 0, 1\n",
        "    for _ in range(n):\n",
        "        print(a, end=\" \")\n",
        "        a, b = b, a + b\n",
        "\n",
        "fibonacci()"
      ]
    },
    {
      "cell_type": "code",
      "execution_count": null,
      "metadata": {},
      "outputs": [],
      "source": [
        "# 20. Adivinar el color\n",
        "\n",
        "def adivinar_color2():\n",
        "    colores = [input(f\"Ingrese el color {i+1}: \") for i in range(10)]\n",
        "    import random\n",
        "    secreto = random.choice(colores)  \n",
        "    \n",
        "    for intentos in range(10):\n",
        "        intento = input(\"Adivine el color: \")\n",
        "        if intento == secreto:\n",
        "            print(\"¡Correcto! Adivinaste el color.\")\n",
        "            break\n",
        "    else:\n",
        "        print(f\"Lo siento, el color era {secreto}\")\n",
        "\n",
        "adivinar_color2()"
      ]
    },
    {
      "cell_type": "markdown",
      "metadata": {},
      "source": [
        "## Q.obligatorio: documentar todos los errores que salgan de ahora en adelante\n",
        "\n",
        "SintaxError: invalid syntax"
      ]
    },
    {
      "cell_type": "markdown",
      "metadata": {},
      "source": []
    }
  ],
  "metadata": {
    "colab": {
      "provenance": []
    },
    "kernelspec": {
      "display_name": "Python 3",
      "name": "python3"
    },
    "language_info": {
      "codemirror_mode": {
        "name": "ipython",
        "version": 3
      },
      "file_extension": ".py",
      "mimetype": "text/x-python",
      "name": "python",
      "nbconvert_exporter": "python",
      "pygments_lexer": "ipython3",
      "version": "3.13.1"
    }
  },
  "nbformat": 4,
  "nbformat_minor": 0
}
