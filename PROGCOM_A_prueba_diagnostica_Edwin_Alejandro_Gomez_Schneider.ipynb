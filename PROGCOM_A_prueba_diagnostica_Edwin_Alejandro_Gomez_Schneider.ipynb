{
  "cells": [
    {
      "cell_type": "markdown",
      "metadata": {
        "id": "8bz_e1XjqRCc"
      },
      "source": [
        "# Edwin Alejandro Gomez Schneider\n",
        "## U00183061\n",
        "\n",
        "## estructura if\n",
        "if (condición): la condición debe ser verdadera si se desea que pase algo\n",
        "if TRUE\n",
        "\n",
        "## estructura ternaria del if\n",
        "se cumple la condición *if* condición *else* si no cumple la condición"
      ]
    },
    {
      "cell_type": "code",
      "execution_count": null,
      "metadata": {
        "id": "rSzbfAg9nlpc"
      },
      "outputs": [],
      "source": [
        "#calcular base de un triángulo\n",
        "b=float(input(\"ingrese la base del triángulo:\"))\n",
        "h=float(input(\"ingresa la altura del triángulo:\"))\n",
        "print(f\"el area del triángulo es: {b*h/2}\")"
      ]
    },
    {
      "cell_type": "code",
      "execution_count": null,
      "metadata": {
        "id": "qwFaFwHpswFz"
      },
      "outputs": [],
      "source": [
        "#convierte grados Celsius a Fahrenheit\n",
        "num=int(input(\"ingrese la temperatura en Celsius:\"))\n",
        "print(f\"la temperatura en grados Fahrenheit: {num*+32}\")"
      ]
    },
    {
      "cell_type": "code",
      "execution_count": null,
      "metadata": {
        "id": "h9Nn2HcytOaV"
      },
      "outputs": [],
      "source": [
        "#Desarrolla un programa que calcule el promedio de tres números ingresados por el usuario.\n",
        "num1=float(input(\"ingrese el primer número:\"))\n",
        "num2=float(input(\"ingrese el segundo número:\"))\n",
        "num3=float(input(\"ingrese el tercer número:\"))\n",
        "print(f\"el promedio de los números es: {(num1+num2+num3)/3}\")"
      ]
    },
    {
      "cell_type": "code",
      "execution_count": null,
      "metadata": {
        "id": "DJke1WiNuCSS"
      },
      "outputs": [],
      "source": [
        "#Escribe un programa que calcule el perímetro y área de un círculo dado su radio.\n",
        "radio=float(input(\"ingrese el radio del círculo:\"))\n",
        "print(f\"el perímetro del círculo es: {2*3.1416*radio}\")\n",
        "print(f\"el área del círculo es: {3.1416*radio**2}\")"
      ]
    },
    {
      "cell_type": "code",
      "execution_count": null,
      "metadata": {
        "id": "hVwbr35sufTQ"
      },
      "outputs": [],
      "source": [
        "#Crea un programa que resuelva una ecuación cuadrática (ax² + bx + c = 0) pidiendo los valores de a, b y c.\n",
        "a=float(input(\"ingrese el valor de a:\"))\n",
        "b=float(input(\"ingrese el valor de b:\"))\n",
        "c=float(input(\"ingrese el valor de c:\"))\n",
        "print(f\"la ecuación es: {a}x²+{b}x+{c}=0\")\n",
        "print(f\"la solución de la ecuación es: {(-b+(b**2-4*a*c)**1/2)/(2*a)} y {(-b-(b**2-4*a*c)**1/2)/(2*a)}\")"
      ]
    },
    {
      "cell_type": "code",
      "execution_count": null,
      "metadata": {
        "id": "J902cSVAu8-v"
      },
      "outputs": [],
      "source": [
        "#Desarrolla un programa que determine si un número es par o impar.\n",
        "#if normal\n",
        "num=int(input(\"ingrese un número:\"))\n",
        "if num%2==0:\n",
        "    print(f\"{num} es par\")\n",
        "else:\n",
        "    print(f\"{num} es impar\")"
      ]
    },
    {
      "cell_type": "code",
      "execution_count": null,
      "metadata": {
        "id": "k93ptLMqqQR5"
      },
      "outputs": [],
      "source": [
        "#Desarrolla un programa que determine si un número es par o impar.\n",
        "#if ternario\n",
        "num= int(input(\"ingrese un número:\"))\n",
        "print(f\"{num} es par\") if num%2==0 else (f\"{num} es impar\")"
      ]
    },
    {
      "cell_type": "code",
      "execution_count": null,
      "metadata": {
        "id": "d8kzT1mtvSYY"
      },
      "outputs": [],
      "source": [
        "#Crea un programa que determine si un año es bisiesto (divisible por 4 y no por 100, o divisible por 400).\n",
        "#if normal\n",
        "año=int(input(\"ingrese un año:\"))\n",
        "if año%4==0 and año%100!=0:\n",
        "  print(f\"{año} es bisiesto\")\n",
        "else:\n",
        "  print(f\"{año} no es bisiesto\")"
      ]
    },
    {
      "cell_type": "code",
      "execution_count": null,
      "metadata": {
        "id": "d77trYulv1nh"
      },
      "outputs": [],
      "source": [
        "#Crea un programa que determine si un año es bisiesto (divisible por 4 y no por 100, o divisible por 400).\n",
        "#if ternario\n",
        "año=int(input(\"ingrese un año:\"))\n",
        "print(f\"{año} es bisiesto\") if año%4==0 and año%100!=0 else print(f\"{año} no es bisiesto\")"
      ]
    },
    {
      "cell_type": "code",
      "execution_count": null,
      "metadata": {
        "id": "L6t4CrAKwBi8"
      },
      "outputs": [],
      "source": [
        "#Escribe un programa que solicite el nombre del usuario y determine si una persona pertenece a la tercera edad (70 años o más) y si se cumple la condición, imprima que se le da prioridad en la fila.\n",
        "#if normal\n",
        "nombre=input(\"ingrese su nombre:\")\n",
        "edad=int(input(\"ingrese su edad:\"))\n",
        "if edad>=70:\n",
        "  print(f\"{nombre}, usted se encuentra en la tercera edad y se le da prioridad en la fila.\")\n",
        "else:\n",
        "  print(f\"{nombre}, usted no tiene prioridad en la fila, espere en la fila.\")"
      ]
    },
    {
      "cell_type": "code",
      "execution_count": null,
      "metadata": {
        "id": "3nEB6VBIwsMV"
      },
      "outputs": [],
      "source": [
        "#Escribe un programa que solicite el nombre del usuario y determine si una persona pertenece a la tercera edad (70 años o más) y si se cumple la condición, imprima que se le da prioridad en la fila.\n",
        "#if ternario\n",
        "nom= input(\"ingrese su nombre:\")\n",
        "edad= int(input(\"ingrese su edad:\"))\n",
        "print(f\"{nom}, usted se encuentra en la tercera edad y se le da prioridad en la fila.\") if edad>=70 else print(f\"{nom}, usted no tiene prioridad en la fila, espere en la fila.\")"
      ]
    },
    {
      "cell_type": "code",
      "execution_count": null,
      "metadata": {
        "id": "Dkm4cmRIxIEe"
      },
      "outputs": [],
      "source": [
        "#Desarrolla un programa que compare tres números y muestre el mayor.\n",
        "#if normal\n",
        "n1=float(input(\"ingrese el primer número:\"))\n",
        "n2=float(input(\"ingrese el segundo número:\"))\n",
        "n3=float(input(\"ingrese el tercer número:\"))\n",
        "if n1>n2 and n2>n3:\n",
        "  print(f\"el número mayor es: {n1}\")\n",
        "else:\n",
        "  if n2>n1 and n2>n3:\n",
        "    print(f\"el número mayor es: {n2}\")\n",
        "  else:\n",
        "    print(f\"el número mayor es: {n3}\")"
      ]
    },
    {
      "cell_type": "code",
      "execution_count": null,
      "metadata": {
        "id": "B7AUHdwFxz4H"
      },
      "outputs": [],
      "source": [
        "#Desarrolla un programa que compare tres números y muestre el mayor.\n",
        "#if ternario\n",
        "n1=float(input(\"ingrese el primer número:\"))\n",
        "n2=float(input(\"ingrese el segundo número:\"))\n",
        "n3=float(input(\"ingrese el tercer número:\"))\n",
        "print(f\"el número mayor es: {n1}\") if n1>n2 and n2>n3 else print(f\"el número mayor es: {n2}\") if n2>n1 and n2>n3 else print(f\"el número mayor es: {n3}\")"
      ]
    },
    {
      "cell_type": "code",
      "execution_count": null,
      "metadata": {
        "id": "ztgHmENzyLpD"
      },
      "outputs": [],
      "source": [
        "#Crea un programa que determine si un triángulo es equilátero, isósceles o escaleno según sus lados.\n",
        "#if normal\n",
        "l1=float(input(\"ingrese el primer lado del triángulo:\"))\n",
        "l2=float(input(\"ingrese el segundo lado del triángulo:\"))\n",
        "l3=float(input(\"ingrese el tercer lado del triángulo:\"))\n",
        "if l1==l2 and l2==l3:\n",
        "  print(\"el triángulo es equilátero\")\n",
        "else:\n",
        "  if l1==l2 or l2==l3 or l1==l3:\n",
        "    print(\"el triángulo es isósceles\")\n",
        "  else:\n",
        "    print(\"el triángulo es escaleno\")"
      ]
    },
    {
      "cell_type": "code",
      "execution_count": null,
      "metadata": {
        "id": "NwlYkElxyWTS"
      },
      "outputs": [],
      "source": [
        "#Crea un programa que determine si un triángulo es equilátero, isósceles o escaleno según sus lados.\n",
        "#if ternario\n",
        "l1=float(input(\"ingrese el primer lado del triángulo:\"))\n",
        "l2=float(input(\"ingrese el segundo lado del triángulo:\"))\n",
        "l3=float(input(\"ingrese el tercer lado del triángulo:\"))\n",
        "print(\"el triángulo es equilátero\") if l1==l2 and l2==l3 else print(\"el triángulo es isósceles\") if l1==l2 or l2==l3 or l1==l3 else print(\"el triángulo es escaleno\")"
      ]
    },
    {
      "cell_type": "markdown",
      "metadata": {},
      "source": [
        "# ejercicios 6 a 10 con match"
      ]
    },
    {
      "cell_type": "code",
      "execution_count": null,
      "metadata": {},
      "outputs": [],
      "source": [
        "#par e impar con match\n",
        "def par_impar():\n",
        "    n = int(input(\"Ingrese un número: \"))\n",
        "    match n % 2 == 0:\n",
        "        case True:\n",
        "            return \"Par\"\n",
        "        case False:\n",
        "            return \"Impar\"\n",
        "    \n",
        "par_impar()"
      ]
    },
    {
      "cell_type": "code",
      "execution_count": null,
      "metadata": {},
      "outputs": [],
      "source": [
        "#año bisiesto con match\n",
        "def bisiesto():\n",
        "    año = int(input(\"Ingrese un año: \"))\n",
        "    match (año % 4 == 0 and año % 100 != 0) or (año % 400 == 0):\n",
        "        case True:\n",
        "            return \"Bisiesto\"\n",
        "        case False:\n",
        "            return \"No bisiesto\"\n",
        "        \n",
        "bisiesto()"
      ]
    },
    {
      "cell_type": "code",
      "execution_count": null,
      "metadata": {},
      "outputs": [],
      "source": [
        "#programa de detectar persona de la tercera edad con match\n",
        "def tercera_edad():\n",
        "    nombre = input(\"Ingrese su nombre: \")\n",
        "    edad = int(input(\"Ingrese su edad: \"))\n",
        "    match edad >= 70:\n",
        "        case True:\n",
        "            return f\"{nombre}, tiene prioridad en la fila.\"\n",
        "        case False:\n",
        "            return f\"{nombre}, no tiene prioridad en la fila.\"\n",
        "        \n",
        "tercera_edad()"
      ]
    },
    {
      "cell_type": "code",
      "execution_count": null,
      "metadata": {},
      "outputs": [],
      "source": [
        "#mayor de los 3 con match\n",
        "\n",
        "def mayor_de_tres():\n",
        "    a = int(input(\"Ingrese el primer número: \"))\n",
        "    b = int(input(\"Ingrese el segundo número: \"))\n",
        "    c = int(input(\"Ingrese el tercer número: \"))\n",
        "    match (a >= b, a >= c, b >= c):\n",
        "        case (True, True, _):\n",
        "            return a\n",
        "        case (False, _, True):\n",
        "            return b\n",
        "        case _:\n",
        "            return c\n",
        "        \n",
        "mayor_de_tres()"
      ]
    },
    {
      "cell_type": "code",
      "execution_count": null,
      "metadata": {},
      "outputs": [],
      "source": [
        "#que tipo de triangulo es con match\n",
        "def tipo_triangulo():\n",
        "    l1 = int(input(\"Ingrese el primer lado: \"))\n",
        "    l2 = int(input(\"Ingrese el segundo lado: \"))\n",
        "    l3 = int(input(\"Ingrese el tercer lado: \"))\n",
        "    match (l1 == l2 == l3, l1 == l2 or l2 == l3 or l1 == l3):\n",
        "        case (True, _):\n",
        "            return \"Equilátero\"\n",
        "        case (False, True):\n",
        "            return \"Isósceles\"\n",
        "        case _:\n",
        "            return \"Escaleno\"\n",
        "        \n",
        "tipo_triangulo()"
      ]
    },
    {
      "cell_type": "markdown",
      "metadata": {},
      "source": [
        "# FOR - PARA\n",
        "\n",
        "## repeticion\n",
        "\n",
        "for (variable) in range (valor inicial, valor final, paso):\n",
        "\n",
        "    aqui se coloca todo lo que se va a repetir n veces\n",
        "\n",
        "## --------------------------------------------------------\n",
        "\n",
        "# forma especifica (numero de veces):\n",
        "\n",
        "for (variable) in range (n):\n",
        "\n",
        "    aqui se coloca lo que se va a repetir n veces\n",
        "\n",
        "## --------------------------------------------------------\n",
        "\n",
        "# forma especifica (listas y diccionarios):\n",
        "\n",
        "for (variable) in lista:\n",
        "\n",
        "    aqui se coloca lo que se va a repetir n veces"
      ]
    },
    {
      "cell_type": "code",
      "execution_count": null,
      "metadata": {},
      "outputs": [],
      "source": [
        "#hacer tabla de multiplicar\n",
        "x=int(input(\"ingrese un numero \\U0001F600: \"))\n",
        "for num in range(1,11,1):\n",
        "    print(f\"{x}x{num}={x*num}\")"
      ]
    },
    {
      "cell_type": "code",
      "execution_count": null,
      "metadata": {},
      "outputs": [],
      "source": [
        "#ahora en lista\n",
        "lista=[1,2,3,4,5,6,7,8,9,10]\n",
        "for num in lista:\n",
        "    print(f\"{x}x{num}={x*num}\")"
      ]
    },
    {
      "cell_type": "code",
      "execution_count": null,
      "metadata": {},
      "outputs": [],
      "source": [
        "#juego\n",
        "import random\n",
        "\n",
        "colores=[\"azul\",\"blanco\",\"negro\",\"rojo\",\"verde\"]\n",
        "color_cpu=colores[random.randint(0,4)]\n",
        "\n",
        "for i in range(5):\n",
        "    opc= input(\"en que color estoy pensando?: \")\n",
        "    if opc==color_cpu:\n",
        "        print(\"GANASTE\")\n",
        "        break\n",
        "    else: print(\"perdiste :c\")"
      ]
    },
    {
      "cell_type": "markdown",
      "metadata": {},
      "source": [
        "WHILE - mientras\n",
        "\n",
        "## repeticion hasta que se cumpla una condicion o se termine con break\n",
        "\n",
        "## se emplea cuando NO se sabe cuantas veces se debe repetir una operacion\n",
        "\n",
        "### 1.una condicion inicial\n",
        "### 2.una condicion final\n",
        "### 3.un mecanismo que altere la condicion inicial"
      ]
    },
    {
      "cell_type": "code",
      "execution_count": null,
      "metadata": {},
      "outputs": [],
      "source": []
    }
  ],
  "metadata": {
    "colab": {
      "provenance": []
    },
    "kernelspec": {
      "display_name": "Python 3",
      "name": "python3"
    },
    "language_info": {
      "codemirror_mode": {
        "name": "ipython",
        "version": 3
      },
      "file_extension": ".py",
      "mimetype": "text/x-python",
      "name": "python",
      "nbconvert_exporter": "python",
      "pygments_lexer": "ipython3",
      "version": "3.13.1"
    }
  },
  "nbformat": 4,
  "nbformat_minor": 0
}
